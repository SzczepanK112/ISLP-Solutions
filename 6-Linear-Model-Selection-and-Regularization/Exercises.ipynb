{
 "cells": [
  {
   "cell_type": "markdown",
   "metadata": {},
   "source": [
    "# Conceptual\n",
    "\n",
    "### 1. We perform best subset, forward stepwise, and backward stepwise selection on a single data set. For each approach, we obtain p + 1 models, containing 0, 1, 2,...,p predictors. Explain your answers:\n",
    "   \n",
    "   (a) Which of the three models with k predictors has the smallest training RSS?\n",
    "\n",
    "   - Best subset selection because it evaluates all possible combinations of predictors.\n",
    "\n",
    "   (b) Which of the three models with k predictors has the smallest test RSS?\n",
    "\n",
    "   -  Probably best subset selection, reason same as above.\n",
    "\n",
    "   (c) True or False:\n",
    "   \n",
    "   - i. The predictors in the k-variable model identifed by forward stepwise are a subset of the predictors in the (k+1)-variable model identifed by forward stepwise selection.\n",
    "      - True\n",
    "   \n",
    "   - ii. The predictors in the k-variable model identifed by backward stepwise are a subset of the predictors in the (k + 1)-variable model identifed by backward stepwise selection.\n",
    "      - True\n",
    "   \n",
    "   - iii. The predictors in the k-variable model identifed by backward stepwise are a subset of the predictors in the (k + 1)-variable model identifed by forward stepwise selection.\n",
    "      - False\n",
    "   \n",
    "   - iv. The predictors in the k-variable model identifed by forward stepwise are a subset of the predictors in the (k+1)-variable model identifed by backward stepwise selection.\n",
    "      - False\n",
    "\n",
    "   - v. The predictors in the k-variable model identifed by best subset are a subset of the predictors in the (k + 1)-variable model identifed by best subset selection.\n",
    "      - False\n",
    "\n",
    "### 2. For parts (a) through (c), indicate which of i. through iv. is correct. Justify your answer.\n",
    "\n",
    "   (a) The lasso, relative to least squares, is:\n",
    "   \n",
    "   - iii. Less fexible and hence will give improved prediction accuracy when its increase in bias is less than its decrease in variance.\n",
    "\n",
    "   (b) Repeat (a) for ridge regression relative to least squares.\n",
    "\n",
    "   - iii. Less fexible and hence will give improved prediction accuracy when its increase in bias is less than its decrease in variance.\n",
    "\n",
    "   (c) Repeat (a) for non-linear methods relative to least squares.\n",
    "\n",
    "   - i. More fexible and hence will give improved prediction accuracy when its increase in bias is less than its decrease in variance.\n"
   ]
  },
  {
   "cell_type": "markdown",
   "metadata": {},
   "source": [
    "### 3. Lasso Regression (L1 Regularization)\n",
    "\n",
    "We estimate the regression coefficients by minimizing:\n",
    "\n",
    "$$\n",
    "\\sum_{i=1}^n \\left( y_i - \\beta_0 - \\sum_{j=1}^p \\beta_j x_{ij} \\right)^2 \\quad \\text{subject to} \\quad \\sum_{j=1}^p |\\beta_j| \\leq s\n",
    "$$\n",
    "\n",
    "for a particular value of $s$.\n",
    "\n",
    "(a) As we increase $s$ from 0, the training RSS will:\n",
    "\n",
    "- iv. Steadily decrease.\n",
    "  - With reduction of bias there will be more flexibility for model, thuss training data will be fit more closely.\n",
    "\n",
    "(b) Repeat (a) for test RSS:\n",
    "\n",
    "- ii. Decrease initially, and then eventually start increasing in a U shape.\n",
    "  - Typical situtaion with model fitting, after lossing too much bias overfitting will occur.\n",
    "\n",
    "(c) Repeat (a) for variance:\n",
    "\n",
    "- iii. Steadily increase.\n",
    "\n",
    "(d) Repeat (a) for (squared) bias:\n",
    "\n",
    "- iv. Steadily decrease.\n",
    "\n",
    "(e) Repeat (a) for the irreducible error:\n",
    "\n",
    "- v. Remain constant.\n",
    "  - The irreducible error is independent of the model and depends only on the inherent noise in the data. It does not change with $s$.\n",
    "\n",
    "### 4. Ridge Regression (L2 Regularization)\n",
    "\n",
    "We estimate the regression coefficients by minimizing:\n",
    "\n",
    "$$\n",
    "\\sum_{i=1}^n \\left( y_i - \\beta_0 - \\sum_{j=1}^p \\beta_j x_{ij} \\right)^2 + \\lambda \\sum_{j=1}^p \\beta_j^2\n",
    "$$\n",
    "\n",
    "for a particular value of $\\lambda$.\n",
    "\n",
    "(a) As we increase $\\lambda$ from 0, the training RSS will:\n",
    "\n",
    "- iii. Steadily increase. \n",
    "  - As $\\lambda$ increases, the penalty on the coefficients becomes stronger, shrinking them toward zero. This reduces the model's flexibility, leading to a steady increase in training RSS.\n",
    "\n",
    "(b) Repeat (a) for test RSS:\n",
    "\n",
    "- ii. Decrease initially, and then eventually start increasing in a U shape.\n",
    "\n",
    "(c) Repeat (a) for variance:\n",
    "\n",
    "- iv. Steadily decrease.\n",
    "\n",
    "(d) Repeat (a) for (squared) bias:\n",
    "\n",
    "- iii. Steadily increase.\n",
    "\n",
    "(e) Repeat (a) for the irreducible error:\n",
    "\n",
    "- v. Remain constant."
   ]
  },
  {
   "cell_type": "markdown",
   "metadata": {},
   "source": [
    "### 5. Ridge Regression and Lasso with Correlated Variables\n",
    "\n",
    "Suppose that $n = 2$, $p = 2$, $x_{11} = x_{12}$, $x_{21} = x_{22}$. Furthermore, suppose that $y_1 + y_2 = 0$, $x_{11} + x_{21} = 0$, and $x_{12} + x_{22} = 0$, so that the estimate for the intercept in a least squares, ridge regression, or lasso model is zero: $\\hat{\\beta}_0 = 0$.\n",
    "\n",
    "\n",
    "**(a) Write out the ridge regression optimization problem in this setting.**\n",
    "\n",
    "\n",
    "\n",
    "$$\n",
    "\\text{min}   [(y_1 - \\beta_1 x_{11} - \\beta_2 x_{12})^2 + (y_2 - \\beta_1 x_{21} - \\beta_2 x_{22})^2 + \\lambda (\\beta_1^2 + \\beta_2^2)]\n",
    "$$\n",
    "\n",
    "\n",
    "**(b) Argue that in this setting, the ridge coefficient estimates satisfy $\\hat{\\beta}_1 = \\hat{\\beta}_2$.**\n",
    "\n",
    "- Since $x_{11} = x_{12}$ and $x_{21} = x_{22}$, the predictors are identical. Ridge regression penalizes the sum of squared coefficients, which encourages coefficients to be equal when predictors are correlated. Thus, $\\hat{\\beta}_1 = \\hat{\\beta}_2$.\n",
    "\n",
    "\n",
    "**(c) Write out the lasso optimization problem in this setting.**\n",
    "\n",
    "The lasso optimization problem is:\n",
    "\n",
    "$$\n",
    "\\text{min} [(y_1 - \\beta_1 x_{11} - \\beta_2 x_{12})^2 + (y_2 - \\beta_1 x_{21} - \\beta_2 x_{22})^2 + \\lambda (|\\beta_1| + |\\beta_2|)]\n",
    "$$\n",
    "\n",
    "\n",
    "**(d) Argue that in this setting, the lasso coefficients $\\hat{\\beta}_1$ and $\\hat{\\beta}_2$ are not unique—in other words, there are many possible solutions to the optimization problem in (c). Describe these solutions.**\n",
    "\n",
    "- The lasso penalty $\\lambda (|\\beta_1| + |\\beta_2|)$ does not distinguish between $\\beta_1$ and $\\beta_2$ because the predictors are identical. Therefore, any solution where $\\beta_1 + \\beta_2 = c$ (for some constant $c$) will yield the same objective value. This means there are infinitely many solutions, such as $(\\beta_1, \\beta_2) = (c, 0)$, $(0, c)$, or any combination where $\\beta_1 + \\beta_2 = c$.\n",
    "\n",
    "\n",
    "### 6. Exploring Equations (6.12) and (6.13)\n",
    "\n",
    "(6.12)\n",
    "$$\n",
    "\\sum_{j=1}^p (y_j - \\beta_j)^2 + \\lambda \\sum_{j=1}^p \\beta_j^2 \\quad \n",
    "$$\n",
    "\n",
    "\n",
    "(6.13)\n",
    "$$\n",
    "\\sum_{j=1}^p (y_j - \\beta_j)^2 + \\lambda \\sum_{j=1}^p |\\beta_j| \\quad  \n",
    "$$\n",
    "\n",
    "(6.14)\n",
    "$$\n",
    "\\hat{\\beta}^R_j = \\frac{y_j}{1 + \\lambda}\n",
    "$$\n",
    "\n",
    "\n",
    "(6.15)\n",
    "$$\n",
    "\\hat{\\beta}^L_j = \n",
    "\\begin{cases} \n",
    "y_j - \\lambda/2 & \\text{if } y_j > \\lambda/2; \\\\\n",
    "y_j + \\lambda/2 & \\text{if } y_j < -\\lambda/2; \\\\\n",
    "0 & \\text{if } |y_j| \\leq \\lambda/2.\n",
    "\\end{cases} \n",
    "$$\n",
    "\n",
    "</br>\n",
    "\n",
    "**(a) Consider (6.12) with $p = 1$. For some choice of $y_1$ and $\\lambda > 0$, plot (6.12) as a function of $\\beta_1$. Your plot should confirm that (6.12) is solved by (6.14).**\n",
    "\n",
    "\n",
    "\n"
   ]
  },
  {
   "cell_type": "code",
   "execution_count": 628,
   "metadata": {},
   "outputs": [
    {
     "data": {
      "text/plain": [
       "[<matplotlib.lines.Line2D at 0x2321722ea50>]"
      ]
     },
     "execution_count": 628,
     "metadata": {},
     "output_type": "execute_result"
    },
    {
     "data": {
      "image/png": "[encoded data removed]",
      "text/plain": [
       "<Figure size 640x480 with 1 Axes>"
      ]
     },
     "metadata": {},
     "output_type": "display_data"
    }
   ],
   "source": [
    "import matplotlib.pyplot as plt\n",
    "import numpy as np\n",
    "\n",
    "y = 0\n",
    "l = 3\n",
    "\n",
    "ridge = lambda beta: (y - beta) ** 2 + l * beta ** 2\n",
    "x = np.linspace(-10, 10, 100)\n",
    "\n",
    "plt.plot(x, ridge(x)) # For y = 0 we get ordinary parabolic shape with minimum at 0"
   ]
  },
  {
   "cell_type": "markdown",
   "metadata": {},
   "source": [
    "\n",
    "**(b) Consider (6.13) with $p = 1$. For some choice of $y_1$ and $\\lambda > 0$, plot (6.13) as a function of $\\beta_1$. Your plot should confirm that (6.13) is solved by (6.15).**"
   ]
  },
  {
   "cell_type": "code",
   "execution_count": 629,
   "metadata": {},
   "outputs": [
    {
     "data": {
      "text/plain": [
       "[<matplotlib.lines.Line2D at 0x232171feba0>]"
      ]
     },
     "execution_count": 629,
     "metadata": {},
     "output_type": "execute_result"
    },
    {
     "data": {
      "image/png": "[encoded data removed]",
      "text/plain": [
       "<Figure size 640x480 with 1 Axes>"
      ]
     },
     "metadata": {},
     "output_type": "display_data"
    }
   ],
   "source": [
    "lasso = lambda beta: (y - beta) ** 2 + l * abs(beta)\n",
    "\n",
    "plt.plot(x, lasso(x)) # For y = 0 we get ordinary parabolic shape with minimum at 0"
   ]
  },
  {
   "cell_type": "markdown",
   "metadata": {},
   "source": [
    "# Applied\n"
   ]
  },
  {
   "cell_type": "markdown",
   "metadata": {},
   "source": [
    "### 8. In this exercise, we will generate simulated data, and will then use this data to perform forward and backward stepwise selection.\n",
    "\n",
    "(a) Create a random number generator and use its $normal()$ method to generate a predictor $X$ of length $n = 100$, as well as a noise vector $\\epsilon$ of length $n = 100$.\n"
   ]
  },
  {
   "cell_type": "code",
   "execution_count": 630,
   "metadata": {},
   "outputs": [],
   "source": [
    "import numpy as np\n",
    "import pandas as pd\n",
    "from matplotlib.pyplot import subplots\n",
    "from statsmodels.api import OLS\n",
    "import sklearn.model_selection as skm\n",
    "import sklearn.linear_model as skl\n",
    "import statsmodels.api as sm\n",
    "from sklearn.preprocessing import StandardScaler, PolynomialFeatures\n",
    "from ISLP import load_data\n",
    "from ISLP.models import ModelSpec as MS\n",
    "from functools import partial\n",
    "from sklearn.pipeline import make_pipeline\n",
    "from sklearn.decomposition import PCA\n",
    "from sklearn.linear_model import LinearRegression\n",
    "from sklearn.model_selection import cross_val_score\n",
    "from sklearn.metrics import mean_squared_error\n",
    "from sklearn.cross_decomposition import PLSRegression\n",
    "from sklearn.feature_selection import SequentialFeatureSelector\n",
    "from ISLP.models import Stepwise, sklearn_selected, sklearn_selection_path\n",
    "from l0bnb import fit_path\n",
    "\n",
    "np.random.seed(60)\n",
    "\n",
    "n = 100\n",
    "X = np.random.normal(0, 1, n)\n",
    "epsilon = np.random.normal(0, 1, n)"
   ]
  },
  {
   "cell_type": "markdown",
   "metadata": {},
   "source": [
    "\n",
    "(b) Generate a response vector $Y$ of length $n = 100$ according to the model\n",
    "$$\n",
    "Y = \\beta_0 + \\beta_1 X + \\beta_2 X^2 + \\beta_3 X^3 + \\epsilon,\n",
    "$$\n",
    "where $\\beta_0$, $\\beta_1$, $\\beta_2$, and $\\beta_3$ are constants of your choice.\n"
   ]
  },
  {
   "cell_type": "code",
   "execution_count": 631,
   "metadata": {},
   "outputs": [],
   "source": [
    "b0 = 29\n",
    "b1 = 2\n",
    "b2 = 13\n",
    "b3 = 7\n",
    "\n",
    "Y = b0 + b1 * X + b2 * X ** 2 + b3 * X ** 3 + epsilon"
   ]
  },
  {
   "cell_type": "markdown",
   "metadata": {},
   "source": [
    "(c) Use forward stepwise selection in order to select a model containing the predictors $X$, $X^2$, $\\dots$, $X^{10}$. What is the model obtained according to $C_p$? Report the coefficients of the model obtained."
   ]
  },
  {
   "cell_type": "code",
   "execution_count": 632,
   "metadata": {},
   "outputs": [
    {
     "name": "stdout",
     "output_type": "stream",
     "text": [
      "Predictors chosen: ['X^1' 'X^2' 'X^3' 'X^5' 'X^7']\n",
      "\n",
      "Intercept: 28.98989368714513\n",
      "Coefficients: [ 1.42512089 12.95622662  8.02232182 -0.36607267  0.03364493]\n"
     ]
    }
   ],
   "source": [
    "poly = PolynomialFeatures(degree=10, include_bias=False)\n",
    "X_poly = poly.fit_transform(X.reshape(-1, 1))\n",
    "\n",
    "feature_names = [f'X^{i}' for i in range(1, 11)]\n",
    "\n",
    "X_train, X_test, y_train, y_test = skm.train_test_split(X_poly, Y, test_size=0.2, random_state=42)\n",
    "\n",
    "model = LinearRegression()\n",
    "fwd_stepwise = SequentialFeatureSelector(LinearRegression(), \n",
    "                                n_features_to_select=\"auto\", \n",
    "                                direction=\"forward\", \n",
    "                                scoring=\"neg_mean_squared_error\", \n",
    "                                cv=5) \n",
    "\n",
    "fwd_stepwise.fit(X_train, y_train.ravel())\n",
    "\n",
    "selected_features = np.array(feature_names)[fwd_stepwise.get_support()]\n",
    "print(\"Predictors chosen:\", selected_features)\n",
    "\n",
    "X_train_selected = X_train[:, fwd_stepwise.get_support()]\n",
    "X_test_selected = X_test[:, fwd_stepwise.get_support()]\n",
    "model.fit(X_train_selected, y_train)\n",
    "\n",
    "print(\"\\nIntercept:\", model.intercept_)\n",
    "print(\"Coefficients:\", model.coef_)"
   ]
  },
  {
   "cell_type": "markdown",
   "metadata": {},
   "source": [
    "\n",
    "\n",
    "(d) Repeat (c), using backward stepwise selection. How does your answer compare to the results in (c)?"
   ]
  },
  {
   "cell_type": "code",
   "execution_count": 633,
   "metadata": {},
   "outputs": [
    {
     "name": "stdout",
     "output_type": "stream",
     "text": [
      "Predictors chosen: ['X^1' 'X^2' 'X^3' 'X^7' 'X^8']\n",
      "Intercept: 28.991494701157023\n",
      "\n",
      "Coefficients: [ 1.95951007e+00  1.29797579e+01  7.09806127e+00 -5.26557591e-03\n",
      "  4.04128903e-04]\n"
     ]
    }
   ],
   "source": [
    "bwd_stepwise = SequentialFeatureSelector(LinearRegression(), \n",
    "                                n_features_to_select=\"auto\", \n",
    "                                direction=\"backward\", \n",
    "                                scoring=\"neg_mean_squared_error\", \n",
    "                                cv=5) \n",
    "\n",
    "bwd_stepwise.fit(X_train, y_train.ravel())\n",
    "\n",
    "selected_features = np.array(feature_names)[bwd_stepwise.get_support()]\n",
    "print(\"Predictors chosen:\", selected_features)\n",
    "\n",
    "X_train_selected = X_train[:, bwd_stepwise.get_support()]\n",
    "X_test_selected = X_test[:, bwd_stepwise.get_support()]\n",
    "model.fit(X_train_selected, y_train)\n",
    "\n",
    "print(\"Intercept:\", model.intercept_)\n",
    "print(\"\\nCoefficients:\", model.coef_)\n",
    "\n",
    "# Backward stepwise selection estimates the coefficients of the predictors actually included in the model more accurately, but it also tends to incorporate more predictors that are not truly relevant to the model."
   ]
  },
  {
   "cell_type": "markdown",
   "metadata": {},
   "source": [
    "\n",
    "\n",
    "(e) Now fit a lasso model to the simulated data, again using $X$, $X^2$, $\\dots$, $X^{10}$ as predictors. Use cross-validation to select the optimal value of $\\lambda$. Create plots of the cross-validation error as a function of $\\lambda$. Report the resulting coefficient estimates, and discuss the results obtained."
   ]
  },
  {
   "cell_type": "code",
   "execution_count": 634,
   "metadata": {},
   "outputs": [
    {
     "name": "stdout",
     "output_type": "stream",
     "text": [
      "Optimal lambda: 0.013530477745798061\n",
      "\n",
      "Intercept: 28.978204613965346\n",
      "\n",
      "Coefficients: [ 1.63376159e+00  1.28979967e+01  7.53167305e+00  1.77041473e-01\n",
      " -1.21466342e-01 -5.86477891e-02 -6.08362310e-03 -5.29141565e-04\n",
      "  1.58385459e-03  1.04938431e-03]\n"
     ]
    },
    {
     "data": {
      "image/png": "[encoded data removed]",
      "text/plain": [
       "<Figure size 800x500 with 1 Axes>"
      ]
     },
     "metadata": {},
     "output_type": "display_data"
    }
   ],
   "source": [
    "import warnings\n",
    "from sklearn.exceptions import ConvergenceWarning\n",
    "\n",
    "with warnings.catch_warnings():\n",
    "  warnings.simplefilter(\"ignore\", category=ConvergenceWarning)\n",
    "  warnings.simplefilter(\"ignore\", category=UserWarning)\n",
    "\n",
    "  lasso_cv = skl.LassoCV(alphas=np.logspace(-5, 5, 100), cv=5)  \n",
    "  lasso_cv.fit(X_train, y_train.ravel())\n",
    "\n",
    "print(\"Optimal lambda:\", lasso_cv.alpha_)\n",
    "\n",
    "print(\"\\nIntercept:\", lasso_cv.intercept_)\n",
    "print(\"\\nCoefficients:\", lasso_cv.coef_)\n",
    "\n",
    "\n",
    "plt.figure(figsize=(8, 5))\n",
    "plt.plot(lasso_cv.alphas_, np.mean(lasso_cv.mse_path_, axis=1), marker='o', linestyle='dashed', color='b')\n",
    "plt.axvline(lasso_cv.alpha_, linestyle=\"--\", color=\"red\", label=rf\"Optimal $\\lambda$ = {lasso_cv.alpha_:.5f}\")\n",
    "plt.xscale(\"log\")\n",
    "plt.xlabel(r\"$\\lambda$ (log scale)\")\n",
    "plt.ylabel(\"MSE validation error\")\n",
    "plt.title(\"Lambda function validation error\")\n",
    "plt.legend()\n",
    "plt.show()\n"
   ]
  },
  {
   "cell_type": "markdown",
   "metadata": {},
   "source": [
    "\n",
    "\n",
    "\n",
    "(f) Now generate a response vector $Y$ according to the model\n",
    "$$\n",
    "Y = \\beta_0 + \\beta_7 X^7 + \\epsilon,\n",
    "$$\n",
    "and perform forward stepwise selection and the lasso. Discuss the results obtained.\n",
    "\n"
   ]
  },
  {
   "cell_type": "code",
   "execution_count": 635,
   "metadata": {},
   "outputs": [
    {
     "name": "stdout",
     "output_type": "stream",
     "text": [
      "Predictors chosen: ['X^1' 'X^2' 'X^7' 'X^8' 'X^10']\n",
      "\n",
      "Intercept: 28.922975195602447\n",
      "Coefficients: [ 1.23629376e-01  1.43540082e-01  3.13521479e+00 -1.10443432e-02\n",
      "  1.85318818e-03]\n"
     ]
    }
   ],
   "source": [
    "b7 = 3.14\n",
    "Y = b7 * X ** 7 + b0 + epsilon\n",
    "\n",
    "X_train, X_test, y_train, y_test = skm.train_test_split(X_poly, Y, test_size=0.2, random_state=42)\n",
    "\n",
    "\n",
    "model = LinearRegression()\n",
    "fwd_stepwise = SequentialFeatureSelector(LinearRegression(), \n",
    "                                n_features_to_select=\"auto\", \n",
    "                                direction=\"forward\", \n",
    "                                scoring=\"neg_mean_squared_error\", \n",
    "                                cv=5) \n",
    "\n",
    "fwd_stepwise.fit(X_train, y_train.ravel())\n",
    "\n",
    "selected_features = np.array(feature_names)[fwd_stepwise.get_support()]\n",
    "print(\"Predictors chosen:\", selected_features)\n",
    "\n",
    "X_train_selected = X_train[:, fwd_stepwise.get_support()]\n",
    "X_test_selected = X_test[:, fwd_stepwise.get_support()]\n",
    "model.fit(X_train_selected, y_train)\n",
    "\n",
    "print(\"\\nIntercept:\", model.intercept_)\n",
    "print(\"Coefficients:\", model.coef_)"
   ]
  },
  {
   "cell_type": "code",
   "execution_count": 636,
   "metadata": {},
   "outputs": [
    {
     "name": "stdout",
     "output_type": "stream",
     "text": [
      "\n",
      "Optimal lambda: 0.3511191734215127\n",
      "\n",
      "Intercept: 28.736578173056266\n",
      "\n",
      "Coefficients: [-3.57084352e-01 -0.00000000e+00 -7.66143518e-01 -0.00000000e+00\n",
      "  2.97781450e+00  8.08592692e-02  1.80267240e+00 -6.46723214e-04\n",
      "  1.51410088e-01 -5.95779814e-03]\n"
     ]
    }
   ],
   "source": [
    "with warnings.catch_warnings():\n",
    "  warnings.simplefilter(\"ignore\", category=ConvergenceWarning)\n",
    "  warnings.simplefilter(\"ignore\", category=UserWarning)\n",
    "\n",
    "  lasso_cv = skl.LassoCV(alphas=np.logspace(-5, 5, 100), cv=5)  \n",
    "  lasso_cv.fit(X_train, y_train.ravel())\n",
    "\n",
    "print(\"\\nOptimal lambda:\", lasso_cv.alpha_)\n",
    "\n",
    "print(\"\\nIntercept:\", lasso_cv.intercept_)\n",
    "print(\"\\nCoefficients:\", lasso_cv.coef_)\n",
    "\n",
    "# Lasso excluded only two predictors from initial set, less predictors were selected by forward stepwise selection"
   ]
  },
  {
   "cell_type": "markdown",
   "metadata": {},
   "source": [
    "\n",
    "### 9. In this exercise, we will predict the number of applications received using the other variables in the College data set.\n",
    "\n",
    "(a) Split the data set into a training set and a test set.\n"
   ]
  },
  {
   "cell_type": "code",
   "execution_count": 637,
   "metadata": {},
   "outputs": [
    {
     "data": {
      "text/html": [
       "<div>\n",
       "<style scoped>\n",
       "    .dataframe tbody tr th:only-of-type {\n",
       "        vertical-align: middle;\n",
       "    }\n",
       "\n",
       "    .dataframe tbody tr th {\n",
       "        vertical-align: top;\n",
       "    }\n",
       "\n",
       "    .dataframe thead th {\n",
       "        text-align: right;\n",
       "    }\n",
       "</style>\n",
       "<table border=\"1\" class=\"dataframe\">\n",
       "  <thead>\n",
       "    <tr style=\"text-align: right;\">\n",
       "      <th></th>\n",
       "      <th>Private</th>\n",
       "      <th>Apps</th>\n",
       "      <th>Accept</th>\n",
       "      <th>Enroll</th>\n",
       "      <th>Top10perc</th>\n",
       "      <th>Top25perc</th>\n",
       "      <th>F.Undergrad</th>\n",
       "      <th>P.Undergrad</th>\n",
       "      <th>Outstate</th>\n",
       "      <th>Room.Board</th>\n",
       "      <th>Books</th>\n",
       "      <th>Personal</th>\n",
       "      <th>PhD</th>\n",
       "      <th>Terminal</th>\n",
       "      <th>S.F.Ratio</th>\n",
       "      <th>perc.alumni</th>\n",
       "      <th>Expend</th>\n",
       "      <th>Grad.Rate</th>\n",
       "    </tr>\n",
       "  </thead>\n",
       "  <tbody>\n",
       "    <tr>\n",
       "      <th>0</th>\n",
       "      <td>Yes</td>\n",
       "      <td>1660</td>\n",
       "      <td>1232</td>\n",
       "      <td>721</td>\n",
       "      <td>23</td>\n",
       "      <td>52</td>\n",
       "      <td>2885</td>\n",
       "      <td>537</td>\n",
       "      <td>7440</td>\n",
       "      <td>3300</td>\n",
       "      <td>450</td>\n",
       "      <td>2200</td>\n",
       "      <td>70</td>\n",
       "      <td>78</td>\n",
       "      <td>18.1</td>\n",
       "      <td>12</td>\n",
       "      <td>7041</td>\n",
       "      <td>60</td>\n",
       "    </tr>\n",
       "    <tr>\n",
       "      <th>1</th>\n",
       "      <td>Yes</td>\n",
       "      <td>2186</td>\n",
       "      <td>1924</td>\n",
       "      <td>512</td>\n",
       "      <td>16</td>\n",
       "      <td>29</td>\n",
       "      <td>2683</td>\n",
       "      <td>1227</td>\n",
       "      <td>12280</td>\n",
       "      <td>6450</td>\n",
       "      <td>750</td>\n",
       "      <td>1500</td>\n",
       "      <td>29</td>\n",
       "      <td>30</td>\n",
       "      <td>12.2</td>\n",
       "      <td>16</td>\n",
       "      <td>10527</td>\n",
       "      <td>56</td>\n",
       "    </tr>\n",
       "    <tr>\n",
       "      <th>2</th>\n",
       "      <td>Yes</td>\n",
       "      <td>1428</td>\n",
       "      <td>1097</td>\n",
       "      <td>336</td>\n",
       "      <td>22</td>\n",
       "      <td>50</td>\n",
       "      <td>1036</td>\n",
       "      <td>99</td>\n",
       "      <td>11250</td>\n",
       "      <td>3750</td>\n",
       "      <td>400</td>\n",
       "      <td>1165</td>\n",
       "      <td>53</td>\n",
       "      <td>66</td>\n",
       "      <td>12.9</td>\n",
       "      <td>30</td>\n",
       "      <td>8735</td>\n",
       "      <td>54</td>\n",
       "    </tr>\n",
       "    <tr>\n",
       "      <th>3</th>\n",
       "      <td>Yes</td>\n",
       "      <td>417</td>\n",
       "      <td>349</td>\n",
       "      <td>137</td>\n",
       "      <td>60</td>\n",
       "      <td>89</td>\n",
       "      <td>510</td>\n",
       "      <td>63</td>\n",
       "      <td>12960</td>\n",
       "      <td>5450</td>\n",
       "      <td>450</td>\n",
       "      <td>875</td>\n",
       "      <td>92</td>\n",
       "      <td>97</td>\n",
       "      <td>7.7</td>\n",
       "      <td>37</td>\n",
       "      <td>19016</td>\n",
       "      <td>59</td>\n",
       "    </tr>\n",
       "    <tr>\n",
       "      <th>4</th>\n",
       "      <td>Yes</td>\n",
       "      <td>193</td>\n",
       "      <td>146</td>\n",
       "      <td>55</td>\n",
       "      <td>16</td>\n",
       "      <td>44</td>\n",
       "      <td>249</td>\n",
       "      <td>869</td>\n",
       "      <td>7560</td>\n",
       "      <td>4120</td>\n",
       "      <td>800</td>\n",
       "      <td>1500</td>\n",
       "      <td>76</td>\n",
       "      <td>72</td>\n",
       "      <td>11.9</td>\n",
       "      <td>2</td>\n",
       "      <td>10922</td>\n",
       "      <td>15</td>\n",
       "    </tr>\n",
       "  </tbody>\n",
       "</table>\n",
       "</div>"
      ],
      "text/plain": [
       "  Private  Apps  Accept  Enroll  Top10perc  Top25perc  F.Undergrad  \\\n",
       "0     Yes  1660    1232     721         23         52         2885   \n",
       "1     Yes  2186    1924     512         16         29         2683   \n",
       "2     Yes  1428    1097     336         22         50         1036   \n",
       "3     Yes   417     349     137         60         89          510   \n",
       "4     Yes   193     146      55         16         44          249   \n",
       "\n",
       "   P.Undergrad  Outstate  Room.Board  Books  Personal  PhD  Terminal  \\\n",
       "0          537      7440        3300    450      2200   70        78   \n",
       "1         1227     12280        6450    750      1500   29        30   \n",
       "2           99     11250        3750    400      1165   53        66   \n",
       "3           63     12960        5450    450       875   92        97   \n",
       "4          869      7560        4120    800      1500   76        72   \n",
       "\n",
       "   S.F.Ratio  perc.alumni  Expend  Grad.Rate  \n",
       "0       18.1           12    7041         60  \n",
       "1       12.2           16   10527         56  \n",
       "2       12.9           30    8735         54  \n",
       "3        7.7           37   19016         59  \n",
       "4       11.9            2   10922         15  "
      ]
     },
     "execution_count": 637,
     "metadata": {},
     "output_type": "execute_result"
    }
   ],
   "source": [
    "college_df = load_data(\"College\")\n",
    "college_df.head()\n"
   ]
  },
  {
   "cell_type": "code",
   "execution_count": 638,
   "metadata": {},
   "outputs": [
    {
     "data": {
      "text/html": [
       "<div>\n",
       "<style scoped>\n",
       "    .dataframe tbody tr th:only-of-type {\n",
       "        vertical-align: middle;\n",
       "    }\n",
       "\n",
       "    .dataframe tbody tr th {\n",
       "        vertical-align: top;\n",
       "    }\n",
       "\n",
       "    .dataframe thead th {\n",
       "        text-align: right;\n",
       "    }\n",
       "</style>\n",
       "<table border=\"1\" class=\"dataframe\">\n",
       "  <thead>\n",
       "    <tr style=\"text-align: right;\">\n",
       "      <th></th>\n",
       "      <th>Apps</th>\n",
       "      <th>Accept</th>\n",
       "      <th>Enroll</th>\n",
       "      <th>Top10perc</th>\n",
       "      <th>Top25perc</th>\n",
       "      <th>F.Undergrad</th>\n",
       "      <th>P.Undergrad</th>\n",
       "      <th>Outstate</th>\n",
       "      <th>Room.Board</th>\n",
       "      <th>Books</th>\n",
       "      <th>Personal</th>\n",
       "      <th>PhD</th>\n",
       "      <th>Terminal</th>\n",
       "      <th>S.F.Ratio</th>\n",
       "      <th>perc.alumni</th>\n",
       "      <th>Expend</th>\n",
       "      <th>Grad.Rate</th>\n",
       "    </tr>\n",
       "  </thead>\n",
       "  <tbody>\n",
       "    <tr>\n",
       "      <th>count</th>\n",
       "      <td>777.000000</td>\n",
       "      <td>777.000000</td>\n",
       "      <td>777.000000</td>\n",
       "      <td>777.000000</td>\n",
       "      <td>777.000000</td>\n",
       "      <td>777.000000</td>\n",
       "      <td>777.000000</td>\n",
       "      <td>777.000000</td>\n",
       "      <td>777.000000</td>\n",
       "      <td>777.000000</td>\n",
       "      <td>777.000000</td>\n",
       "      <td>777.000000</td>\n",
       "      <td>777.000000</td>\n",
       "      <td>777.000000</td>\n",
       "      <td>777.000000</td>\n",
       "      <td>777.000000</td>\n",
       "      <td>777.00000</td>\n",
       "    </tr>\n",
       "    <tr>\n",
       "      <th>mean</th>\n",
       "      <td>3001.638353</td>\n",
       "      <td>2018.804376</td>\n",
       "      <td>779.972973</td>\n",
       "      <td>27.558559</td>\n",
       "      <td>55.796654</td>\n",
       "      <td>3699.907336</td>\n",
       "      <td>855.298584</td>\n",
       "      <td>10440.669241</td>\n",
       "      <td>4357.526384</td>\n",
       "      <td>549.380952</td>\n",
       "      <td>1340.642214</td>\n",
       "      <td>72.660232</td>\n",
       "      <td>79.702703</td>\n",
       "      <td>14.089704</td>\n",
       "      <td>22.743887</td>\n",
       "      <td>9660.171171</td>\n",
       "      <td>65.46332</td>\n",
       "    </tr>\n",
       "    <tr>\n",
       "      <th>std</th>\n",
       "      <td>3870.201484</td>\n",
       "      <td>2451.113971</td>\n",
       "      <td>929.176190</td>\n",
       "      <td>17.640364</td>\n",
       "      <td>19.804778</td>\n",
       "      <td>4850.420531</td>\n",
       "      <td>1522.431887</td>\n",
       "      <td>4023.016484</td>\n",
       "      <td>1096.696416</td>\n",
       "      <td>165.105360</td>\n",
       "      <td>677.071454</td>\n",
       "      <td>16.328155</td>\n",
       "      <td>14.722359</td>\n",
       "      <td>3.958349</td>\n",
       "      <td>12.391801</td>\n",
       "      <td>5221.768440</td>\n",
       "      <td>17.17771</td>\n",
       "    </tr>\n",
       "    <tr>\n",
       "      <th>min</th>\n",
       "      <td>81.000000</td>\n",
       "      <td>72.000000</td>\n",
       "      <td>35.000000</td>\n",
       "      <td>1.000000</td>\n",
       "      <td>9.000000</td>\n",
       "      <td>139.000000</td>\n",
       "      <td>1.000000</td>\n",
       "      <td>2340.000000</td>\n",
       "      <td>1780.000000</td>\n",
       "      <td>96.000000</td>\n",
       "      <td>250.000000</td>\n",
       "      <td>8.000000</td>\n",
       "      <td>24.000000</td>\n",
       "      <td>2.500000</td>\n",
       "      <td>0.000000</td>\n",
       "      <td>3186.000000</td>\n",
       "      <td>10.00000</td>\n",
       "    </tr>\n",
       "    <tr>\n",
       "      <th>25%</th>\n",
       "      <td>776.000000</td>\n",
       "      <td>604.000000</td>\n",
       "      <td>242.000000</td>\n",
       "      <td>15.000000</td>\n",
       "      <td>41.000000</td>\n",
       "      <td>992.000000</td>\n",
       "      <td>95.000000</td>\n",
       "      <td>7320.000000</td>\n",
       "      <td>3597.000000</td>\n",
       "      <td>470.000000</td>\n",
       "      <td>850.000000</td>\n",
       "      <td>62.000000</td>\n",
       "      <td>71.000000</td>\n",
       "      <td>11.500000</td>\n",
       "      <td>13.000000</td>\n",
       "      <td>6751.000000</td>\n",
       "      <td>53.00000</td>\n",
       "    </tr>\n",
       "    <tr>\n",
       "      <th>50%</th>\n",
       "      <td>1558.000000</td>\n",
       "      <td>1110.000000</td>\n",
       "      <td>434.000000</td>\n",
       "      <td>23.000000</td>\n",
       "      <td>54.000000</td>\n",
       "      <td>1707.000000</td>\n",
       "      <td>353.000000</td>\n",
       "      <td>9990.000000</td>\n",
       "      <td>4200.000000</td>\n",
       "      <td>500.000000</td>\n",
       "      <td>1200.000000</td>\n",
       "      <td>75.000000</td>\n",
       "      <td>82.000000</td>\n",
       "      <td>13.600000</td>\n",
       "      <td>21.000000</td>\n",
       "      <td>8377.000000</td>\n",
       "      <td>65.00000</td>\n",
       "    </tr>\n",
       "    <tr>\n",
       "      <th>75%</th>\n",
       "      <td>3624.000000</td>\n",
       "      <td>2424.000000</td>\n",
       "      <td>902.000000</td>\n",
       "      <td>35.000000</td>\n",
       "      <td>69.000000</td>\n",
       "      <td>4005.000000</td>\n",
       "      <td>967.000000</td>\n",
       "      <td>12925.000000</td>\n",
       "      <td>5050.000000</td>\n",
       "      <td>600.000000</td>\n",
       "      <td>1700.000000</td>\n",
       "      <td>85.000000</td>\n",
       "      <td>92.000000</td>\n",
       "      <td>16.500000</td>\n",
       "      <td>31.000000</td>\n",
       "      <td>10830.000000</td>\n",
       "      <td>78.00000</td>\n",
       "    </tr>\n",
       "    <tr>\n",
       "      <th>max</th>\n",
       "      <td>48094.000000</td>\n",
       "      <td>26330.000000</td>\n",
       "      <td>6392.000000</td>\n",
       "      <td>96.000000</td>\n",
       "      <td>100.000000</td>\n",
       "      <td>31643.000000</td>\n",
       "      <td>21836.000000</td>\n",
       "      <td>21700.000000</td>\n",
       "      <td>8124.000000</td>\n",
       "      <td>2340.000000</td>\n",
       "      <td>6800.000000</td>\n",
       "      <td>103.000000</td>\n",
       "      <td>100.000000</td>\n",
       "      <td>39.800000</td>\n",
       "      <td>64.000000</td>\n",
       "      <td>56233.000000</td>\n",
       "      <td>118.00000</td>\n",
       "    </tr>\n",
       "  </tbody>\n",
       "</table>\n",
       "</div>"
      ],
      "text/plain": [
       "               Apps        Accept       Enroll   Top10perc   Top25perc  \\\n",
       "count    777.000000    777.000000   777.000000  777.000000  777.000000   \n",
       "mean    3001.638353   2018.804376   779.972973   27.558559   55.796654   \n",
       "std     3870.201484   2451.113971   929.176190   17.640364   19.804778   \n",
       "min       81.000000     72.000000    35.000000    1.000000    9.000000   \n",
       "25%      776.000000    604.000000   242.000000   15.000000   41.000000   \n",
       "50%     1558.000000   1110.000000   434.000000   23.000000   54.000000   \n",
       "75%     3624.000000   2424.000000   902.000000   35.000000   69.000000   \n",
       "max    48094.000000  26330.000000  6392.000000   96.000000  100.000000   \n",
       "\n",
       "        F.Undergrad   P.Undergrad      Outstate   Room.Board        Books  \\\n",
       "count    777.000000    777.000000    777.000000   777.000000   777.000000   \n",
       "mean    3699.907336    855.298584  10440.669241  4357.526384   549.380952   \n",
       "std     4850.420531   1522.431887   4023.016484  1096.696416   165.105360   \n",
       "min      139.000000      1.000000   2340.000000  1780.000000    96.000000   \n",
       "25%      992.000000     95.000000   7320.000000  3597.000000   470.000000   \n",
       "50%     1707.000000    353.000000   9990.000000  4200.000000   500.000000   \n",
       "75%     4005.000000    967.000000  12925.000000  5050.000000   600.000000   \n",
       "max    31643.000000  21836.000000  21700.000000  8124.000000  2340.000000   \n",
       "\n",
       "          Personal         PhD    Terminal   S.F.Ratio  perc.alumni  \\\n",
       "count   777.000000  777.000000  777.000000  777.000000   777.000000   \n",
       "mean   1340.642214   72.660232   79.702703   14.089704    22.743887   \n",
       "std     677.071454   16.328155   14.722359    3.958349    12.391801   \n",
       "min     250.000000    8.000000   24.000000    2.500000     0.000000   \n",
       "25%     850.000000   62.000000   71.000000   11.500000    13.000000   \n",
       "50%    1200.000000   75.000000   82.000000   13.600000    21.000000   \n",
       "75%    1700.000000   85.000000   92.000000   16.500000    31.000000   \n",
       "max    6800.000000  103.000000  100.000000   39.800000    64.000000   \n",
       "\n",
       "             Expend  Grad.Rate  \n",
       "count    777.000000  777.00000  \n",
       "mean    9660.171171   65.46332  \n",
       "std     5221.768440   17.17771  \n",
       "min     3186.000000   10.00000  \n",
       "25%     6751.000000   53.00000  \n",
       "50%     8377.000000   65.00000  \n",
       "75%    10830.000000   78.00000  \n",
       "max    56233.000000  118.00000  "
      ]
     },
     "execution_count": 638,
     "metadata": {},
     "output_type": "execute_result"
    }
   ],
   "source": [
    "college_df.describe()"
   ]
  },
  {
   "cell_type": "code",
   "execution_count": 639,
   "metadata": {},
   "outputs": [],
   "source": [
    "y = college_df['Apps']\n",
    "X = college_df[college_df.columns.drop(['Apps', 'Private'])]\n",
    "\n",
    "X_train, X_test, y_train, y_test = skm.train_test_split(X, y, test_size=0.33)"
   ]
  },
  {
   "cell_type": "markdown",
   "metadata": {},
   "source": [
    "\n",
    "(b) Fit a linear model using least squares on the training set, and report the test error obtained.\n",
    "\n"
   ]
  },
  {
   "cell_type": "code",
   "execution_count": 640,
   "metadata": {},
   "outputs": [
    {
     "data": {
      "text/plain": [
       "1026860.6942995079"
      ]
     },
     "execution_count": 640,
     "metadata": {},
     "output_type": "execute_result"
    }
   ],
   "source": [
    "model_ols = OLS(y_train, X_train)\n",
    "results_ols = model_ols.fit()\n",
    "\n",
    "\n",
    "y_pred = results_ols.predict(X_test)\n",
    "\n",
    "MSE = np.sum((y_pred - y_test) ** 2 / len(y_test))\n",
    "MSE\n"
   ]
  },
  {
   "cell_type": "markdown",
   "metadata": {},
   "source": [
    "(c) Fit a ridge regression model on the training set, with $\\lambda$ chosen by cross-validation. Report the test error obtained.\n",
    "\n"
   ]
  },
  {
   "cell_type": "code",
   "execution_count": 641,
   "metadata": {},
   "outputs": [
    {
     "name": "stdout",
     "output_type": "stream",
     "text": [
      "MSE (Ridge): 1041015.5338149811\n",
      "\n",
      "Coefficients: [ 4330.41847729 -1210.1575614    897.66074531  -240.2718585\n",
      "   620.01673983     5.62517083  -447.28307861   168.05320759\n",
      "   -33.61281968   120.89831194  -142.15966421    -6.9161403\n",
      "   126.92529114    14.81404363   546.58051799   149.50173924]\n",
      "\n",
      "Intercept: 3136.8365384615386\n"
     ]
    }
   ],
   "source": [
    "scaler = StandardScaler().fit(X_train)\n",
    "\n",
    "X_train = scaler.transform(X_train)\n",
    "X_test = scaler.transform(X_test)\n",
    "\n",
    "ridge_cv = skl.RidgeCV(cv=5).fit(X_train, y_train)\n",
    "\n",
    "y_pred_ridge = ridge_cv.predict(X_test)\n",
    "\n",
    "MSE_ridge = np.sum((y_pred_ridge - y_test) ** 2 / len(y_test))\n",
    "MSE_ridge\n",
    "\n",
    "print(\"MSE (Ridge):\", MSE_ridge)\n",
    "\n",
    "print(\"\\nCoefficients:\", ridge_cv.coef_)\n",
    "print(\"\\nIntercept:\", ridge_cv.intercept_)\n"
   ]
  },
  {
   "cell_type": "markdown",
   "metadata": {},
   "source": [
    "(d) Fit a lasso model on the training set, with $\\lambda$ chosen by cross-validation. Report the test error obtained, along with the number of non-zero coefficient estimates.\n"
   ]
  },
  {
   "cell_type": "code",
   "execution_count": 642,
   "metadata": {},
   "outputs": [
    {
     "name": "stdout",
     "output_type": "stream",
     "text": [
      "MSE (Lasso): 1023565.2907277618\n",
      "\n",
      "Coefficients: [ 4.27378012e+03 -1.03693147e+03  8.50207353e+02 -1.97397853e+02\n",
      "  4.94477862e+02  8.21141342e+00 -4.27468873e+02  1.59888158e+02\n",
      " -2.67946900e+01  1.15621906e+02 -1.35386821e+02 -4.15592325e+00\n",
      "  1.19210037e+02  0.00000000e+00  5.39430058e+02  1.42046079e+02]\n",
      "\n",
      "Intercept: 3136.8365384615386\n",
      "Number of Coefficients equal to zero: 1\n"
     ]
    }
   ],
   "source": [
    "lasso_cv = skl.LassoCV(cv=5).fit(X_train, y_train)\n",
    "\n",
    "y_pred_lasso = lasso_cv.predict(X_test)\n",
    "\n",
    "MSE_lasso = np.sum((y_pred_lasso - y_test) ** 2 / len(y_test))\n",
    "\n",
    "print(\"MSE (Lasso):\", MSE_lasso)\n",
    "\n",
    "print(\"\\nCoefficients:\", lasso_cv.coef_)\n",
    "print(\"\\nIntercept:\", lasso_cv.intercept_)\n",
    "\n",
    "print(\"Number of Coefficients equal to zero:\", np.sum(lasso_cv.coef_ == 0))"
   ]
  },
  {
   "cell_type": "markdown",
   "metadata": {},
   "source": [
    "\n",
    "(e) Fit a PCR model on the training set, with $M$ chosen by cross-validation. Report the test error obtained, along with the value of $M$ selected by cross-validation.\n"
   ]
  },
  {
   "cell_type": "code",
   "execution_count": 643,
   "metadata": {},
   "outputs": [
    {
     "name": "stdout",
     "output_type": "stream",
     "text": [
      "Best M for PCR: 16\n",
      "1042316.7220795378\n"
     ]
    }
   ],
   "source": [
    "pca = PCA()\n",
    "\n",
    "X_train_pca = pca.fit_transform(X_train)\n",
    "X_test_pca = pca.transform(X_test)\n",
    "\n",
    "mse_scores = []\n",
    "\n",
    "for m in range(1, X_train_pca.shape[1] + 1):\n",
    "  model = LinearRegression().fit(X_train_pca[:, :m], y_train)\n",
    "  mse_scores.append(-cross_val_score(model, X_train_pca[:, :m], y_train, scoring=\"neg_mean_squared_error\", cv=5).mean())\n",
    "\n",
    "best_m = np.argmin(mse_scores) + 1\n",
    "print(\"Best M for PCR:\", best_m)\n",
    "\n",
    "pcr_model = LinearRegression().fit(X_train_pca[:, :best_m], y_train)\n",
    "y_pred_pcr = pcr_model.predict(X_test_pca[:, :best_m])\n",
    "\n",
    "MSE_pcr = np.sum((y_pred_pcr - y_test) ** 2 / len(y_test))\n",
    "print(MSE_pcr)"
   ]
  },
  {
   "cell_type": "markdown",
   "metadata": {},
   "source": [
    "\n",
    "(f) Fit a PLS model on the training set, with $M$ chosen by cross-validation. Report the test error obtained, along with the value of $M$ selected by cross-validation.\n",
    "\n"
   ]
  },
  {
   "cell_type": "code",
   "execution_count": 644,
   "metadata": {},
   "outputs": [
    {
     "name": "stdout",
     "output_type": "stream",
     "text": [
      "Best M for PLS: 16\n"
     ]
    },
    {
     "data": {
      "text/plain": [
       "1042316.7220795369"
      ]
     },
     "execution_count": 644,
     "metadata": {},
     "output_type": "execute_result"
    }
   ],
   "source": [
    "mse_scores_plc = []\n",
    "\n",
    "for m in range(1, X_train.shape[1] + 1):\n",
    "  pls = PLSRegression(n_components=m)\n",
    "  mse_scores_plc.append(-cross_val_score(pls, X_train, y_train, scoring=\"neg_mean_squared_error\", cv=5).mean())\n",
    "\n",
    "best_m_pls = np.argmin(mse_scores_plc) + 1\n",
    "print(\"Best M for PLS:\", best_m_pls)\n",
    "\n",
    "pls_model = PLSRegression(n_components=best_m_pls).fit(X_train, y_train)\n",
    "y_pred_pls = pls_model.predict(X_test)\n",
    "\n",
    "MSE_pls = np.sum((y_pred_pls - y_test) ** 2 / len(y_test))\n",
    "MSE_pls"
   ]
  },
  {
   "cell_type": "markdown",
   "metadata": {},
   "source": [
    "(g) Comment on the results obtained. How accurately can we predict the number of college applications received? Is there much difference among the test errors resulting from these five approaches?\n",
    "\n",
    "There is no significant difference in the mean squared error between the regression methods used. However, Ridge regression produced the model with the lowest test MSE, followed closely by Lasso, which achieved a nearly identical score. Partial Least Squares and Principal Component Regression followed thereafter. Lasso regression did not perform as expected, as none of the coefficients were reduced to zero. This could be due to a low regularization parameter, a lack of strong collinearity between predictors, or the fact that all features contribute meaningfully to the prediction, making variable selection unnecessary."
   ]
  },
  {
   "cell_type": "markdown",
   "metadata": {},
   "source": [
    "### 11. Predicting Per Capita Crime Rate in the Boston Data Set\n",
    "\n",
    "(a) Try out some of the regression methods explored in this chapter, such as best subset selection, the lasso, ridge regression, and PCR. Present and discuss results for the approaches that you consider.\n",
    "\n"
   ]
  },
  {
   "cell_type": "code",
   "execution_count": 645,
   "metadata": {},
   "outputs": [
    {
     "name": "stdout",
     "output_type": "stream",
     "text": [
      "Lasso Test MSE: 25.577930139351736\n",
      "Ridge Test MSE: 25.267527729238477\n",
      "PCR Test MSE: 25.46873410559456\n"
     ]
    }
   ],
   "source": [
    "boston = load_data(\"boston\")\n",
    "X = boston[boston.columns.drop('crim')]\n",
    "y = boston.crim\n",
    "\n",
    "X = StandardScaler().fit_transform(X)\n",
    "\n",
    "X_train, X_test, y_train, y_test = skm.train_test_split(X, y, test_size=0.2, random_state=42)\n",
    "\n",
    "# Best Subset Selection - skipped because of computational complexity\n",
    "\n",
    "# Lasso\n",
    "lasso = skl.LassoCV(cv=5).fit(X_train, y_train)\n",
    "y_pred_lasso = lasso.predict(X_test)\n",
    "mse_lasso = mean_squared_error(y_test, y_pred_lasso)\n",
    "print(\"Lasso Test MSE:\", mse_lasso)\n",
    "\n",
    "# Ridge\n",
    "ridge = skl.RidgeCV(cv=5).fit(X_train, y_train)\n",
    "y_pred_ridge = ridge.predict(X_test)\n",
    "mse_ridge = mean_squared_error(y_test, y_pred_ridge)\n",
    "print(\"Ridge Test MSE:\", mse_ridge)\n",
    "\n",
    "# PCR \n",
    "pca = PCA()\n",
    "pcr = make_pipeline(pca, LinearRegression())\n",
    "pcr.fit(X_train, y_train)\n",
    "y_pred_pcr = pcr.predict(X_test)\n",
    "mse_pcr = mean_squared_error(y_test, y_pred_pcr)\n",
    "print(\"PCR Test MSE:\", mse_pcr)"
   ]
  },
  {
   "cell_type": "markdown",
   "metadata": {},
   "source": [
    "\n",
    "(b) Propose a model (or set of models) that seem to perform well on this data set, and justify your answer. Make sure that you are evaluating model performance using validation set error, cross-validation, or some other reasonable alternative, as opposed to using training error.\n"
   ]
  },
  {
   "cell_type": "code",
   "execution_count": 646,
   "metadata": {},
   "outputs": [
    {
     "name": "stdout",
     "output_type": "stream",
     "text": [
      "Lasso CV MSE: 49.02612651695988\n",
      "Ridge CV MSE: 45.94904428149635\n",
      "PCR CV MSE: 47.27480731016546\n"
     ]
    }
   ],
   "source": [
    "lasso_score = -cross_val_score(lasso, X, y, scoring='neg_mean_squared_error', cv=5).mean()\n",
    "ridge_score = -cross_val_score(ridge, X, y, scoring='neg_mean_squared_error', cv=5).mean()\n",
    "pcr_score = -cross_val_score(pcr, X, y, scoring='neg_mean_squared_error', cv=5).mean()\n",
    "\n",
    "print(\"Lasso CV MSE:\", lasso_score)\n",
    "print(\"Ridge CV MSE:\", ridge_score)\n",
    "print(\"PCR CV MSE:\", pcr_score)\n",
    "\n",
    "# Ridge regression performs the best both in terms of cross-validation error and test error."
   ]
  },
  {
   "cell_type": "markdown",
   "metadata": {},
   "source": [
    "\n",
    "\n",
    "(c) Does your chosen model involve all of the features in the data set? Why or why not?"
   ]
  },
  {
   "cell_type": "code",
   "execution_count": 647,
   "metadata": {},
   "outputs": [
    {
     "data": {
      "text/plain": [
       "array([ 0.85145805, -0.28457269, -0.26113093, -1.05109728,  0.45898755,\n",
       "        0.25438763, -1.83732274,  4.67999459,  0.19114772, -0.54677788,\n",
       "        0.40051467, -1.99481629])"
      ]
     },
     "execution_count": 647,
     "metadata": {},
     "output_type": "execute_result"
    }
   ],
   "source": [
    "ridge.coef_\n",
    "\n",
    "# Yes it does, because ridge only shrinks coefficients and doesn't exclude predictors."
   ]
  },
  {
   "cell_type": "code",
   "execution_count": 648,
   "metadata": {},
   "outputs": [
    {
     "data": {
      "text/plain": [
       "array([ 0.81187674, -0.17551716, -0.23112967, -0.98317364,  0.35691258,\n",
       "        0.16058345, -1.7795975 ,  4.92658818, -0.        , -0.54216771,\n",
       "        0.25094025, -1.97958238])"
      ]
     },
     "execution_count": 648,
     "metadata": {},
     "output_type": "execute_result"
    }
   ],
   "source": [
    "lasso.coef_ \n",
    "# For lasso we see one coefficient shrinked to almost zero. Yet none of the predictors were entirely excluded which suggests that all of them are relevant.\n",
    "# However situation would change if different lambda was chosen."
   ]
  }
 ],
 "metadata": {
  "kernelspec": {
   "display_name": "ISLP",
   "language": "python",
   "name": "python3"
  },
  "language_info": {
   "codemirror_mode": {
    "name": "ipython",
    "version": 3
   },
   "file_extension": ".py",
   "mimetype": "text/x-python",
   "name": "python",
   "nbconvert_exporter": "python",
   "pygments_lexer": "ipython3",
   "version": "3.12.7"
  }
 },
 "nbformat": 4,
 "nbformat_minor": 2
}
